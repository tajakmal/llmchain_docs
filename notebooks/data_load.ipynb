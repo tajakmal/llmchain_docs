{
 "cells": [
  {
   "cell_type": "code",
   "execution_count": 3,
   "metadata": {},
   "outputs": [
    {
     "data": {
      "text/plain": [
       "{'upserted_count': 2}"
      ]
     },
     "execution_count": 3,
     "metadata": {},
     "output_type": "execute_result"
    }
   ],
   "source": [
    "import openai\n",
    "import os\n",
    "import pinecone\n",
    "\n",
    "from dotenv import load_dotenv\n",
    "\n",
    "load_dotenv()\n",
    "# environment variables\n",
    "\n",
    "openai.api_key = os.getenv(\"OPENAI_API_KEY\")\n",
    "openai.organization = os.getenv(\"OPENAI_ORG_KEY\")\n",
    "\n",
    "embed_model = \"text-embedding-ada-002\"\n",
    "\n",
    "# Manually type some text\n",
    "texts = [\n",
    "    \"Andy Appel knew a man named Joel Friedman that used to race aligators. He worked at bell labs and tested how oxygen is absorbed in the blood.\",\n",
    "    \"Joel Friedman headed up the Albert Einstein shcool. Andy got to take care of the animals.\",\n",
    "]\n",
    "\n",
    "# Generate embeddings using OpenAI API\n",
    "res = openai.Embedding.create(input=texts, engine=embed_model)\n",
    "\n",
    "# Extract embeddings\n",
    "embeds = [record['embedding'] for record in res['data']]\n",
    "\n",
    "# Initialize Pinecone\n",
    "pinecone.init(api_key=os.getenv(\"PINECONE_API_KEY\"), environment=\"us-central1-gcp\")\n",
    "\n",
    "index_name = 'memory'\n",
    "\n",
    "# Create Pinecone index if it doesn't exist\n",
    "if index_name not in pinecone.list_indexes():\n",
    "    pinecone.create_index(\n",
    "        index_name,\n",
    "        dimension=len(res['data'][0]['embedding']),\n",
    "        metric='dotproduct'\n",
    "    )\n",
    "\n",
    "# Connect to Pinecone index\n",
    "index = pinecone.Index(index_name)\n",
    "\n",
    "# Prepare metadata\n",
    "metadata = [\n",
    "    {\"text\": \"Andy Appel knew a man named Joel Friedman that used to race alligators. He worked at bell labs and tested how oxygen is absorbed in the blood.\",},\n",
    "    {\"text\": \"Joel Friedman headed up the Albert Einstein shcool. Andy got to take care of the animals.\"},\n",
    "]\n",
    "\n",
    "# Combine item IDs, embeddings, and metadata\n",
    "item_ids = [\"item1\", \"item2\"]\n",
    "embeddings_with_metadata = [\n",
    "    {\"id\": item_id, \"values\": embed, \"metadata\": meta}\n",
    "    for item_id, embed, meta in zip(item_ids, embeds, metadata)\n",
    "]\n",
    "\n",
    "# Upsert embeddings with metadata into Pinecone\n",
    "index.upsert(embeddings_with_metadata)"
   ]
  },
  {
   "cell_type": "code",
   "execution_count": null,
   "metadata": {},
   "outputs": [],
   "source": []
  }
 ],
 "metadata": {
  "kernelspec": {
   "display_name": ".venv",
   "language": "python",
   "name": "python3"
  },
  "language_info": {
   "codemirror_mode": {
    "name": "ipython",
    "version": 3
   },
   "file_extension": ".py",
   "mimetype": "text/x-python",
   "name": "python",
   "nbconvert_exporter": "python",
   "pygments_lexer": "ipython3",
   "version": "3.11.2"
  },
  "orig_nbformat": 4
 },
 "nbformat": 4,
 "nbformat_minor": 2
}
